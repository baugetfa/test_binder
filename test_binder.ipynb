{
 "cells": [
  {
   "cell_type": "code",
   "execution_count": 1,
   "id": "72cc9cd6-1ee4-4082-aeee-024e193adf14",
   "metadata": {},
   "outputs": [],
   "source": [
    "import numpy as np"
   ]
  },
  {
   "cell_type": "code",
   "execution_count": 2,
   "id": "112330e5-6f38-4acb-b1f8-bb31831a2f27",
   "metadata": {},
   "outputs": [],
   "source": [
    "a = np.arange(0,3)"
   ]
  },
  {
   "cell_type": "code",
   "execution_count": 3,
   "id": "700a59b1-1dea-4e90-98f1-2f721d1fa10d",
   "metadata": {},
   "outputs": [
    {
     "name": "stdout",
     "output_type": "stream",
     "text": [
      "range(0, 3)\n"
     ]
    }
   ],
   "source": [
    "print(a)"
   ]
  },
  {
   "cell_type": "code",
   "execution_count": null,
   "id": "9cf13b4b-d519-47bd-9ba0-8ed6aef37054",
   "metadata": {},
   "outputs": [],
   "source": []
  }
 ],
 "metadata": {
  "kernelspec": {
   "display_name": "Python 3 (ipykernel)",
   "language": "python",
   "name": "python3"
  },
  "language_info": {
   "codemirror_mode": {
    "name": "ipython",
    "version": 3
   },
   "file_extension": ".py",
   "mimetype": "text/x-python",
   "name": "python",
   "nbconvert_exporter": "python",
   "pygments_lexer": "ipython3",
   "version": "3.9.15"
  }
 },
 "nbformat": 4,
 "nbformat_minor": 5
}
